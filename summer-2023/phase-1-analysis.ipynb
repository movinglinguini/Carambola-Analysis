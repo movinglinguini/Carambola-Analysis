{
 "cells": [
  {
   "cell_type": "markdown",
   "id": "e9d7193a",
   "metadata": {},
   "source": [
    "# Analysis Plan\n",
    "\n",
    "1. Check normality in demographics\n",
    "2. Transform value choices to cosine distance from expected assignments\n",
    "3. Check bias in data: Any correlations between value choices and demographic data?\n",
    "4. Determine power\n",
    "5. Determine significance"
   ]
  },
  {
   "cell_type": "code",
   "execution_count": 19,
   "id": "a2ad7404",
   "metadata": {},
   "outputs": [],
   "source": [
    "import math\n",
    "import statistics\n",
    "import pandas as pd\n",
    "import numpy as np\n",
    "import matplotlib.pyplot as plt\n",
    "from scipy.stats import shapiro, kendalltau, linregress, iqr\n",
    "from scipy.spatial.distance import cosine\n",
    "from scipy.ndimage import rotate\n",
    "import seaborn as sns"
   ]
  },
  {
   "cell_type": "code",
   "execution_count": 2,
   "id": "33cc55a3",
   "metadata": {},
   "outputs": [
    {
     "data": {
      "text/html": [
       "<div>\n",
       "<style scoped>\n",
       "    .dataframe tbody tr th:only-of-type {\n",
       "        vertical-align: middle;\n",
       "    }\n",
       "\n",
       "    .dataframe tbody tr th {\n",
       "        vertical-align: top;\n",
       "    }\n",
       "\n",
       "    .dataframe thead th {\n",
       "        text-align: right;\n",
       "    }\n",
       "</style>\n",
       "<table border=\"1\" class=\"dataframe\">\n",
       "  <thead>\n",
       "    <tr style=\"text-align: right;\">\n",
       "      <th></th>\n",
       "      <th>Timestamp</th>\n",
       "      <th>value_0</th>\n",
       "      <th>value_1</th>\n",
       "      <th>value_2</th>\n",
       "      <th>value_3</th>\n",
       "      <th>value_4</th>\n",
       "      <th>value_5</th>\n",
       "      <th>value_6</th>\n",
       "      <th>value_7</th>\n",
       "      <th>value_8</th>\n",
       "      <th>age</th>\n",
       "      <th>gender</th>\n",
       "      <th>education</th>\n",
       "      <th>reading</th>\n",
       "      <th>years_gaming</th>\n",
       "      <th>gaming_per_week</th>\n",
       "      <th>familiarity</th>\n",
       "    </tr>\n",
       "  </thead>\n",
       "  <tbody>\n",
       "    <tr>\n",
       "      <th>0</th>\n",
       "      <td>6/18/2023 12:50:37</td>\n",
       "      <td>5</td>\n",
       "      <td>5</td>\n",
       "      <td>7</td>\n",
       "      <td>0</td>\n",
       "      <td>5</td>\n",
       "      <td>1</td>\n",
       "      <td>1</td>\n",
       "      <td>7</td>\n",
       "      <td>4</td>\n",
       "      <td>29</td>\n",
       "      <td>0</td>\n",
       "      <td>1</td>\n",
       "      <td>0</td>\n",
       "      <td>0</td>\n",
       "      <td>2</td>\n",
       "      <td>0</td>\n",
       "    </tr>\n",
       "    <tr>\n",
       "      <th>1</th>\n",
       "      <td>6/20/2023 14:12:29</td>\n",
       "      <td>5</td>\n",
       "      <td>5</td>\n",
       "      <td>7</td>\n",
       "      <td>8</td>\n",
       "      <td>4</td>\n",
       "      <td>1</td>\n",
       "      <td>1</td>\n",
       "      <td>3</td>\n",
       "      <td>4</td>\n",
       "      <td>25</td>\n",
       "      <td>1</td>\n",
       "      <td>2</td>\n",
       "      <td>1</td>\n",
       "      <td>0</td>\n",
       "      <td>2</td>\n",
       "      <td>0</td>\n",
       "    </tr>\n",
       "    <tr>\n",
       "      <th>2</th>\n",
       "      <td>6/20/2023 15:09:29</td>\n",
       "      <td>5</td>\n",
       "      <td>7</td>\n",
       "      <td>3</td>\n",
       "      <td>8</td>\n",
       "      <td>5</td>\n",
       "      <td>2</td>\n",
       "      <td>2</td>\n",
       "      <td>5</td>\n",
       "      <td>4</td>\n",
       "      <td>22</td>\n",
       "      <td>1</td>\n",
       "      <td>1</td>\n",
       "      <td>1</td>\n",
       "      <td>0</td>\n",
       "      <td>0</td>\n",
       "      <td>1</td>\n",
       "    </tr>\n",
       "    <tr>\n",
       "      <th>3</th>\n",
       "      <td>6/20/2023 22:46:46</td>\n",
       "      <td>4</td>\n",
       "      <td>5</td>\n",
       "      <td>7</td>\n",
       "      <td>8</td>\n",
       "      <td>4</td>\n",
       "      <td>2</td>\n",
       "      <td>2</td>\n",
       "      <td>3</td>\n",
       "      <td>4</td>\n",
       "      <td>28</td>\n",
       "      <td>0</td>\n",
       "      <td>3</td>\n",
       "      <td>1</td>\n",
       "      <td>0</td>\n",
       "      <td>0</td>\n",
       "      <td>0</td>\n",
       "    </tr>\n",
       "    <tr>\n",
       "      <th>4</th>\n",
       "      <td>6/21/2023 3:53:42</td>\n",
       "      <td>5</td>\n",
       "      <td>5</td>\n",
       "      <td>7</td>\n",
       "      <td>8</td>\n",
       "      <td>5</td>\n",
       "      <td>1</td>\n",
       "      <td>4</td>\n",
       "      <td>5</td>\n",
       "      <td>4</td>\n",
       "      <td>35</td>\n",
       "      <td>0</td>\n",
       "      <td>1</td>\n",
       "      <td>1</td>\n",
       "      <td>0</td>\n",
       "      <td>2</td>\n",
       "      <td>3</td>\n",
       "    </tr>\n",
       "  </tbody>\n",
       "</table>\n",
       "</div>"
      ],
      "text/plain": [
       "            Timestamp  value_0  value_1  value_2  value_3  value_4  value_5  \\\n",
       "0  6/18/2023 12:50:37        5        5        7        0        5        1   \n",
       "1  6/20/2023 14:12:29        5        5        7        8        4        1   \n",
       "2  6/20/2023 15:09:29        5        7        3        8        5        2   \n",
       "3  6/20/2023 22:46:46        4        5        7        8        4        2   \n",
       "4   6/21/2023 3:53:42        5        5        7        8        5        1   \n",
       "\n",
       "   value_6  value_7  value_8  age  gender  education  reading  years_gaming  \\\n",
       "0        1        7        4   29       0          1        0             0   \n",
       "1        1        3        4   25       1          2        1             0   \n",
       "2        2        5        4   22       1          1        1             0   \n",
       "3        2        3        4   28       0          3        1             0   \n",
       "4        4        5        4   35       0          1        1             0   \n",
       "\n",
       "   gaming_per_week  familiarity  \n",
       "0                2            0  \n",
       "1                2            0  \n",
       "2                0            1  \n",
       "3                0            0  \n",
       "4                2            3  "
      ]
     },
     "execution_count": 2,
     "metadata": {},
     "output_type": "execute_result"
    }
   ],
   "source": [
    "data_df = pd.read_csv('./data/study-responses.csv')\n",
    "data_df.head()"
   ]
  },
  {
   "cell_type": "markdown",
   "id": "7036eb53",
   "metadata": {},
   "source": [
    "## Visualize demographics data"
   ]
  },
  {
   "cell_type": "code",
   "execution_count": 3,
   "id": "e3d1a3fe",
   "metadata": {
    "scrolled": false
   },
   "outputs": [
    {
     "data": {
      "image/png": "[encoded data removed]",
      "text/plain": [
       "<Figure size 640x480 with 1 Axes>"
      ]
     },
     "metadata": {},
     "output_type": "display_data"
    },
    {
     "name": "stdout",
     "output_type": "stream",
     "text": [
      "Shapiro-Wilks test: 0.09259679913520813\n"
     ]
    },
    {
     "data": {
      "image/png": "[encoded data removed]",
      "text/plain": [
       "<Figure size 640x480 with 1 Axes>"
      ]
     },
     "metadata": {},
     "output_type": "display_data"
    },
    {
     "name": "stdout",
     "output_type": "stream",
     "text": [
      "Shapiro-Wilks test: 0.0016729218186810613\n"
     ]
    },
    {
     "data": {
      "image/png": "[encoded data removed]",
      "text/plain": [
       "<Figure size 640x480 with 1 Axes>"
      ]
     },
     "metadata": {},
     "output_type": "display_data"
    },
    {
     "name": "stdout",
     "output_type": "stream",
     "text": [
      "Shapiro-Wilks test: 0.06282538175582886\n"
     ]
    },
    {
     "data": {
      "image/png": "[encoded data removed]",
      "text/plain": [
       "<Figure size 640x480 with 1 Axes>"
      ]
     },
     "metadata": {},
     "output_type": "display_data"
    },
    {
     "name": "stdout",
     "output_type": "stream",
     "text": [
      "Shapiro-Wilks test: 1.7121129758379539e-06\n"
     ]
    },
    {
     "data": {
      "image/png": "[encoded data removed]",
      "text/plain": [
       "<Figure size 640x480 with 1 Axes>"
      ]
     },
     "metadata": {},
     "output_type": "display_data"
    },
    {
     "name": "stdout",
     "output_type": "stream",
     "text": [
      "Shapiro-Wilks test: 1.0\n"
     ]
    },
    {
     "name": "stderr",
     "output_type": "stream",
     "text": [
      "/home/lag/.local/lib/python3.8/site-packages/scipy/stats/_morestats.py:1813: UserWarning: Input data for shapiro has range zero. The results may not be accurate.\n",
      "  warnings.warn(\"Input data for shapiro has range zero. The results \"\n"
     ]
    },
    {
     "data": {
      "image/png": "[encoded data removed]",
      "text/plain": [
       "<Figure size 640x480 with 1 Axes>"
      ]
     },
     "metadata": {},
     "output_type": "display_data"
    },
    {
     "name": "stdout",
     "output_type": "stream",
     "text": [
      "Shapiro-Wilks test: 0.06282538175582886\n"
     ]
    },
    {
     "data": {
      "image/png": "[encoded data removed]",
      "text/plain": [
       "<Figure size 640x480 with 1 Axes>"
      ]
     },
     "metadata": {},
     "output_type": "display_data"
    },
    {
     "name": "stdout",
     "output_type": "stream",
     "text": [
      "Shapiro-Wilks test: 0.008831472136080265\n"
     ]
    }
   ],
   "source": [
    "demo_columns = ['age', 'gender', 'education', 'reading', 'years_gaming', 'gaming_per_week', 'familiarity']\n",
    "ticks = [[\n",
    "    18,\n",
    "    22,\n",
    "    24,\n",
    "    25,\n",
    "    28,\n",
    "    29,\n",
    "    35,\n",
    "], [\n",
    "    'male', 'female', 'nonbinary', 'don\\'t know', 'none'\n",
    "], [\n",
    "    'high school', 'bachelor degree', 'master degree', 'doctorate'\n",
    "], [\n",
    "    'somewhat confident', 'extremely confident'\n",
    "], [\n",
    "    '5+ years'\n",
    "], [\n",
    "   '0-5',\n",
    "    '5-10',\n",
    "    '10-20',\n",
    "    '20+'\n",
    "], [\n",
    "    'somewhat unfamiliar', 'neither familiar nor unfamiliar', 'somewhat familiar', 'very familiar'\n",
    "]]\n",
    "\n",
    "for idx, col in enumerate(demo_columns):\n",
    "    # get the column from the df\n",
    "    column_s = data_df[col]\n",
    "    if not column_s.dtype == 'int64':\n",
    "        continue\n",
    "    # visualize with histogram\n",
    "    figure = plt.figure()\n",
    "    counts, bins = np.histogram(column_s) \n",
    "    plt.hist(column_s, bins=len(set(column_s)), label=ticks[idx])\n",
    "    \n",
    "    plt.title(f'{col} Frequencies')\n",
    "    plt.show()\n",
    "    # shapiro wilk test for normality\n",
    "    res = shapiro(column_s)\n",
    "    print(f'Shapiro-Wilks test: {res.pvalue}')\n",
    "    "
   ]
  },
  {
   "cell_type": "code",
   "execution_count": 4,
   "id": "150f2a5d",
   "metadata": {},
   "outputs": [],
   "source": [
    "### Same as above, but with value assignments"
   ]
  },
  {
   "cell_type": "code",
   "execution_count": 5,
   "id": "3d7ff386",
   "metadata": {
    "scrolled": false
   },
   "outputs": [
    {
     "data": {
      "image/png": "[encoded data removed]",
      "text/plain": [
       "<Figure size 640x480 with 1 Axes>"
      ]
     },
     "metadata": {},
     "output_type": "display_data"
    },
    {
     "name": "stdout",
     "output_type": "stream",
     "text": [
      "Shapiro-Wilks test: 5.650239472743124e-05\n"
     ]
    },
    {
     "data": {
      "image/png": "[encoded data removed]",
      "text/plain": [
       "<Figure size 640x480 with 1 Axes>"
      ]
     },
     "metadata": {},
     "output_type": "display_data"
    },
    {
     "name": "stdout",
     "output_type": "stream",
     "text": [
      "Shapiro-Wilks test: 0.01159956119954586\n"
     ]
    },
    {
     "data": {
      "image/png": "[encoded data removed]",
      "text/plain": [
       "<Figure size 640x480 with 1 Axes>"
      ]
     },
     "metadata": {},
     "output_type": "display_data"
    },
    {
     "name": "stdout",
     "output_type": "stream",
     "text": [
      "Shapiro-Wilks test: 0.004724571015685797\n"
     ]
    },
    {
     "data": {
      "image/png": "[encoded data removed]",
      "text/plain": [
       "<Figure size 640x480 with 1 Axes>"
      ]
     },
     "metadata": {},
     "output_type": "display_data"
    },
    {
     "name": "stdout",
     "output_type": "stream",
     "text": [
      "Shapiro-Wilks test: 0.00456919614225626\n"
     ]
    },
    {
     "data": {
      "image/png": "[encoded data removed]",
      "text/plain": [
       "<Figure size 640x480 with 1 Axes>"
      ]
     },
     "metadata": {},
     "output_type": "display_data"
    },
    {
     "name": "stdout",
     "output_type": "stream",
     "text": [
      "Shapiro-Wilks test: 9.202749060932547e-05\n"
     ]
    },
    {
     "data": {
      "image/png": "[encoded data removed]",
      "text/plain": [
       "<Figure size 640x480 with 1 Axes>"
      ]
     },
     "metadata": {},
     "output_type": "display_data"
    },
    {
     "name": "stdout",
     "output_type": "stream",
     "text": [
      "Shapiro-Wilks test: 0.002220605965703726\n"
     ]
    },
    {
     "data": {
      "image/png": "[encoded data removed]",
      "text/plain": [
       "<Figure size 640x480 with 1 Axes>"
      ]
     },
     "metadata": {},
     "output_type": "display_data"
    },
    {
     "name": "stdout",
     "output_type": "stream",
     "text": [
      "Shapiro-Wilks test: 0.003323397133499384\n"
     ]
    },
    {
     "data": {
      "image/png": "[encoded data removed]",
      "text/plain": [
       "<Figure size 640x480 with 1 Axes>"
      ]
     },
     "metadata": {},
     "output_type": "display_data"
    },
    {
     "name": "stdout",
     "output_type": "stream",
     "text": [
      "Shapiro-Wilks test: 0.0015960383461788297\n"
     ]
    },
    {
     "data": {
      "image/png": "[encoded data removed]",
      "text/plain": [
       "<Figure size 640x480 with 1 Axes>"
      ]
     },
     "metadata": {},
     "output_type": "display_data"
    },
    {
     "name": "stdout",
     "output_type": "stream",
     "text": [
      "Shapiro-Wilks test: 2.6357231490692357e-06\n"
     ]
    }
   ],
   "source": [
    "value_assignment_columns = [ f'value_{i}' for i in range(9) ]\n",
    "\n",
    "for idx, col in enumerate(value_assignment_columns):\n",
    "    # get the column from the df\n",
    "    column_s = data_df[col]\n",
    "    if not column_s.dtype == 'int64':\n",
    "        continue\n",
    "    # visualize with histogram\n",
    "    figure = plt.figure()\n",
    "    counts, bins = np.histogram(column_s) \n",
    "    plt.hist(column_s, bins=len(set(column_s)))\n",
    "    \n",
    "    plt.title(f'{col} Frequencies')\n",
    "    plt.show()\n",
    "    # shapiro wilk test for normality\n",
    "    res = shapiro(column_s)\n",
    "    print(f'Shapiro-Wilks test: {res.pvalue}')"
   ]
  },
  {
   "cell_type": "markdown",
   "id": "af7b9777",
   "metadata": {},
   "source": [
    "## Test Correlations"
   ]
  },
  {
   "cell_type": "code",
   "execution_count": 6,
   "id": "42fad899",
   "metadata": {},
   "outputs": [
    {
     "data": {
      "text/html": [
       "<div>\n",
       "<style scoped>\n",
       "    .dataframe tbody tr th:only-of-type {\n",
       "        vertical-align: middle;\n",
       "    }\n",
       "\n",
       "    .dataframe tbody tr th {\n",
       "        vertical-align: top;\n",
       "    }\n",
       "\n",
       "    .dataframe thead th {\n",
       "        text-align: right;\n",
       "    }\n",
       "</style>\n",
       "<table border=\"1\" class=\"dataframe\">\n",
       "  <thead>\n",
       "    <tr style=\"text-align: right;\">\n",
       "      <th></th>\n",
       "      <th>demographic</th>\n",
       "      <th>value_0</th>\n",
       "      <th>value_1</th>\n",
       "      <th>value_2</th>\n",
       "      <th>value_3</th>\n",
       "      <th>value_4</th>\n",
       "      <th>value_5</th>\n",
       "      <th>value_6</th>\n",
       "      <th>value_7</th>\n",
       "      <th>value_8</th>\n",
       "    </tr>\n",
       "  </thead>\n",
       "  <tbody>\n",
       "    <tr>\n",
       "      <th>0</th>\n",
       "      <td>age</td>\n",
       "      <td>0.22504665034619228, p=0.3479853622974256</td>\n",
       "      <td>-0.14279694431970227, p=0.5196638662334356</td>\n",
       "      <td>0.2654659366009494, p=0.23617009174067916</td>\n",
       "      <td>-0.05309318732018988, p=0.8127166787532469</td>\n",
       "      <td>0.2645934427049934, p=0.2698427303866473</td>\n",
       "      <td>-0.27171304864640744, p=0.23327752438294214</td>\n",
       "      <td>0.21566554640687682, p=0.34281485752801244</td>\n",
       "      <td>0.2326426907609221, p=0.31917293541898395</td>\n",
       "      <td>0.3234983196103153, p=0.1702368731211341</td>\n",
       "    </tr>\n",
       "    <tr>\n",
       "      <th>1</th>\n",
       "      <td>gender</td>\n",
       "      <td>0.030716723549488064, p=0.7899807693437246</td>\n",
       "      <td>0.06143344709897612, p=0.8751302739278001</td>\n",
       "      <td>-0.08873720136518776, p=0.8607340390267391</td>\n",
       "      <td>0.5767918088737202, p=0.4046084219678675</td>\n",
       "      <td>0.06825938566552904, p=0.5643873349410942</td>\n",
       "      <td>0.6245733788395906, p=0.005851846586484315</td>\n",
       "      <td>0.20477815699658705, p=0.45885720407411434</td>\n",
       "      <td>0.05460750853242321, p=0.8555676365525562</td>\n",
       "      <td>0.13651877133105803, p=0.4921629200911529</td>\n",
       "    </tr>\n",
       "    <tr>\n",
       "      <th>2</th>\n",
       "      <td>education</td>\n",
       "      <td>0.16151457061744964, p=0.5298397985296219</td>\n",
       "      <td>0.14492753623188404, p=0.5411320386284632</td>\n",
       "      <td>0.0889108448948774, p=0.7107165572394163</td>\n",
       "      <td>0.11854779319316987, p=0.6209353118884096</td>\n",
       "      <td>-0.10425720702853739, p=0.6850850260519676</td>\n",
       "      <td>-0.24267506943642136, p=0.31993444867559284</td>\n",
       "      <td>0.0902893898143269, p=0.7105849961184058</td>\n",
       "      <td>-0.11362977583012393, p=0.6496818477114086</td>\n",
       "      <td>0.19261736493723072, p=0.44603183840846683</td>\n",
       "    </tr>\n",
       "    <tr>\n",
       "      <th>3</th>\n",
       "      <td>reading</td>\n",
       "      <td>0.12171612389003693, p=0.6607675283290312</td>\n",
       "      <td>0.0, p=1.0</td>\n",
       "      <td>-0.4773929622481257, p=0.06433384153970054</td>\n",
       "      <td>0.1256297269074015, p=0.62639648401305</td>\n",
       "      <td>-0.058925565098878974, p=0.8317488466563913</td>\n",
       "      <td>-0.051434449987363975, p=0.844842637976412</td>\n",
       "      <td>0.5103103630798288, p=0.05150833604880684</td>\n",
       "      <td>-0.16514456476895412, p=0.5402913746074198</td>\n",
       "      <td>0.0, p=1.0</td>\n",
       "    </tr>\n",
       "    <tr>\n",
       "      <th>4</th>\n",
       "      <td>years_gaming</td>\n",
       "      <td>nan, p=nan</td>\n",
       "      <td>nan, p=nan</td>\n",
       "      <td>nan, p=nan</td>\n",
       "      <td>nan, p=nan</td>\n",
       "      <td>nan, p=nan</td>\n",
       "      <td>nan, p=nan</td>\n",
       "      <td>nan, p=nan</td>\n",
       "      <td>nan, p=nan</td>\n",
       "      <td>nan, p=nan</td>\n",
       "    </tr>\n",
       "    <tr>\n",
       "      <th>5</th>\n",
       "      <td>gaming_per_week</td>\n",
       "      <td>0.41275945824459354, p=0.10837737746720458</td>\n",
       "      <td>-0.11594202898550725, p=0.6249255083254353</td>\n",
       "      <td>0.2667325346846322, p=0.26584515518265384</td>\n",
       "      <td>-0.20745863808804726, p=0.38680879884196573</td>\n",
       "      <td>0.2953954199141892, p=0.25055061131272216</td>\n",
       "      <td>-0.273009453115974, p=0.26317568906766975</td>\n",
       "      <td>0.13543408472149035, p=0.5777967879421617</td>\n",
       "      <td>0.2921908521346044, p=0.24282544043356413</td>\n",
       "      <td>0.5296977535773845, p=0.0361150453770427</td>\n",
       "    </tr>\n",
       "    <tr>\n",
       "      <th>6</th>\n",
       "      <td>familiarity</td>\n",
       "      <td>-0.0884574820723792, p=0.7286331397011504</td>\n",
       "      <td>0.2000204112874951, p=0.3952213192579913</td>\n",
       "      <td>-0.11686617901920497, p=0.6231084340652392</td>\n",
       "      <td>0.17529926852880745, p=0.46101622638538753</td>\n",
       "      <td>-0.08564858872844146, p=0.7369256096447179</td>\n",
       "      <td>0.014952043467208551, p=0.9507383823222783</td>\n",
       "      <td>0.20768679018392433, p=0.38951622822442733</td>\n",
       "      <td>-0.016002560614563885, p=0.9485777581252941</td>\n",
       "      <td>-0.23735633163877065, p=0.34373177622551154</td>\n",
       "    </tr>\n",
       "  </tbody>\n",
       "</table>\n",
       "</div>"
      ],
      "text/plain": [
       "       demographic                                     value_0  \\\n",
       "0              age   0.22504665034619228, p=0.3479853622974256   \n",
       "1           gender  0.030716723549488064, p=0.7899807693437246   \n",
       "2        education   0.16151457061744964, p=0.5298397985296219   \n",
       "3          reading   0.12171612389003693, p=0.6607675283290312   \n",
       "4     years_gaming                                  nan, p=nan   \n",
       "5  gaming_per_week  0.41275945824459354, p=0.10837737746720458   \n",
       "6      familiarity   -0.0884574820723792, p=0.7286331397011504   \n",
       "\n",
       "                                      value_1  \\\n",
       "0  -0.14279694431970227, p=0.5196638662334356   \n",
       "1   0.06143344709897612, p=0.8751302739278001   \n",
       "2   0.14492753623188404, p=0.5411320386284632   \n",
       "3                                  0.0, p=1.0   \n",
       "4                                  nan, p=nan   \n",
       "5  -0.11594202898550725, p=0.6249255083254353   \n",
       "6    0.2000204112874951, p=0.3952213192579913   \n",
       "\n",
       "                                      value_2  \\\n",
       "0   0.2654659366009494, p=0.23617009174067916   \n",
       "1  -0.08873720136518776, p=0.8607340390267391   \n",
       "2    0.0889108448948774, p=0.7107165572394163   \n",
       "3  -0.4773929622481257, p=0.06433384153970054   \n",
       "4                                  nan, p=nan   \n",
       "5   0.2667325346846322, p=0.26584515518265384   \n",
       "6  -0.11686617901920497, p=0.6231084340652392   \n",
       "\n",
       "                                       value_3  \\\n",
       "0   -0.05309318732018988, p=0.8127166787532469   \n",
       "1     0.5767918088737202, p=0.4046084219678675   \n",
       "2    0.11854779319316987, p=0.6209353118884096   \n",
       "3       0.1256297269074015, p=0.62639648401305   \n",
       "4                                   nan, p=nan   \n",
       "5  -0.20745863808804726, p=0.38680879884196573   \n",
       "6   0.17529926852880745, p=0.46101622638538753   \n",
       "\n",
       "                                       value_4  \\\n",
       "0     0.2645934427049934, p=0.2698427303866473   \n",
       "1    0.06825938566552904, p=0.5643873349410942   \n",
       "2   -0.10425720702853739, p=0.6850850260519676   \n",
       "3  -0.058925565098878974, p=0.8317488466563913   \n",
       "4                                   nan, p=nan   \n",
       "5    0.2953954199141892, p=0.25055061131272216   \n",
       "6   -0.08564858872844146, p=0.7369256096447179   \n",
       "\n",
       "                                       value_5  \\\n",
       "0  -0.27171304864640744, p=0.23327752438294214   \n",
       "1   0.6245733788395906, p=0.005851846586484315   \n",
       "2  -0.24267506943642136, p=0.31993444867559284   \n",
       "3   -0.051434449987363975, p=0.844842637976412   \n",
       "4                                   nan, p=nan   \n",
       "5    -0.273009453115974, p=0.26317568906766975   \n",
       "6   0.014952043467208551, p=0.9507383823222783   \n",
       "\n",
       "                                      value_6  \\\n",
       "0  0.21566554640687682, p=0.34281485752801244   \n",
       "1  0.20477815699658705, p=0.45885720407411434   \n",
       "2    0.0902893898143269, p=0.7105849961184058   \n",
       "3   0.5103103630798288, p=0.05150833604880684   \n",
       "4                                  nan, p=nan   \n",
       "5   0.13543408472149035, p=0.5777967879421617   \n",
       "6  0.20768679018392433, p=0.38951622822442733   \n",
       "\n",
       "                                       value_7  \\\n",
       "0    0.2326426907609221, p=0.31917293541898395   \n",
       "1    0.05460750853242321, p=0.8555676365525562   \n",
       "2   -0.11362977583012393, p=0.6496818477114086   \n",
       "3   -0.16514456476895412, p=0.5402913746074198   \n",
       "4                                   nan, p=nan   \n",
       "5    0.2921908521346044, p=0.24282544043356413   \n",
       "6  -0.016002560614563885, p=0.9485777581252941   \n",
       "\n",
       "                                       value_8  \n",
       "0     0.3234983196103153, p=0.1702368731211341  \n",
       "1    0.13651877133105803, p=0.4921629200911529  \n",
       "2   0.19261736493723072, p=0.44603183840846683  \n",
       "3                                   0.0, p=1.0  \n",
       "4                                   nan, p=nan  \n",
       "5     0.5296977535773845, p=0.0361150453770427  \n",
       "6  -0.23735633163877065, p=0.34373177622551154  "
      ]
     },
     "metadata": {},
     "output_type": "display_data"
    }
   ],
   "source": [
    "subplot_height = len(demo_columns)\n",
    "subplot_width = 9\n",
    "\n",
    "demo_types = ['interval', 'nominal', 'ordinal', 'ordinal', 'ordinal', 'ordinal', 'ordinal']\n",
    "alpha = 0.05\n",
    "\n",
    "corr_df = []\n",
    "sig_corr_df = []\n",
    "for idx, demo in enumerate(demo_columns):\n",
    "    results = { 'demographic': demo }\n",
    "    sig_results = { 'demographic': demo }\n",
    "    for jdx, assignment in enumerate(value_assignment_columns):\n",
    "        if demo_types[idx] == 'nominal':\n",
    "            corr = linregress(data_df[demo], data_df[assignment])\n",
    "            results[assignment] = f'{corr.slope}, p={corr.pvalue}'\n",
    "            \n",
    "            if corr.pvalue < alpha:\n",
    "                sig_results[assignment] = f'{corr.slope}, p={corr.pvalue}'\n",
    "        else:\n",
    "            corr = kendalltau(data_df[demo], data_df[assignment])\n",
    "            results[assignment] = f'{corr.statistic}, p={corr.pvalue}'\n",
    "            if corr.pvalue < alpha:\n",
    "                sig_results[assignment] = f'{corr.statistic}, p={corr.pvalue}'\n",
    "    \n",
    "    corr_df.append(results)\n",
    "    sig_corr_df.append(sig_results)\n",
    "    \n",
    "corr_df = pd.DataFrame(corr_df)\n",
    "sig_corr_df = pd.DataFrame(sig_corr_df)\n",
    "display(corr_df)"
   ]
  },
  {
   "cell_type": "code",
   "execution_count": 7,
   "id": "8191698a",
   "metadata": {},
   "outputs": [
    {
     "data": {
      "text/html": [
       "<div>\n",
       "<style scoped>\n",
       "    .dataframe tbody tr th:only-of-type {\n",
       "        vertical-align: middle;\n",
       "    }\n",
       "\n",
       "    .dataframe tbody tr th {\n",
       "        vertical-align: top;\n",
       "    }\n",
       "\n",
       "    .dataframe thead th {\n",
       "        text-align: right;\n",
       "    }\n",
       "</style>\n",
       "<table border=\"1\" class=\"dataframe\">\n",
       "  <thead>\n",
       "    <tr style=\"text-align: right;\">\n",
       "      <th></th>\n",
       "      <th>demographic</th>\n",
       "      <th>value_5</th>\n",
       "      <th>value_8</th>\n",
       "    </tr>\n",
       "  </thead>\n",
       "  <tbody>\n",
       "    <tr>\n",
       "      <th>0</th>\n",
       "      <td>age</td>\n",
       "      <td>NaN</td>\n",
       "      <td>NaN</td>\n",
       "    </tr>\n",
       "    <tr>\n",
       "      <th>1</th>\n",
       "      <td>gender</td>\n",
       "      <td>0.6245733788395906, p=0.005851846586484315</td>\n",
       "      <td>NaN</td>\n",
       "    </tr>\n",
       "    <tr>\n",
       "      <th>2</th>\n",
       "      <td>education</td>\n",
       "      <td>NaN</td>\n",
       "      <td>NaN</td>\n",
       "    </tr>\n",
       "    <tr>\n",
       "      <th>3</th>\n",
       "      <td>reading</td>\n",
       "      <td>NaN</td>\n",
       "      <td>NaN</td>\n",
       "    </tr>\n",
       "    <tr>\n",
       "      <th>4</th>\n",
       "      <td>years_gaming</td>\n",
       "      <td>NaN</td>\n",
       "      <td>NaN</td>\n",
       "    </tr>\n",
       "    <tr>\n",
       "      <th>5</th>\n",
       "      <td>gaming_per_week</td>\n",
       "      <td>NaN</td>\n",
       "      <td>0.5296977535773845, p=0.0361150453770427</td>\n",
       "    </tr>\n",
       "    <tr>\n",
       "      <th>6</th>\n",
       "      <td>familiarity</td>\n",
       "      <td>NaN</td>\n",
       "      <td>NaN</td>\n",
       "    </tr>\n",
       "  </tbody>\n",
       "</table>\n",
       "</div>"
      ],
      "text/plain": [
       "       demographic                                     value_5  \\\n",
       "0              age                                         NaN   \n",
       "1           gender  0.6245733788395906, p=0.005851846586484315   \n",
       "2        education                                         NaN   \n",
       "3          reading                                         NaN   \n",
       "4     years_gaming                                         NaN   \n",
       "5  gaming_per_week                                         NaN   \n",
       "6      familiarity                                         NaN   \n",
       "\n",
       "                                    value_8  \n",
       "0                                       NaN  \n",
       "1                                       NaN  \n",
       "2                                       NaN  \n",
       "3                                       NaN  \n",
       "4                                       NaN  \n",
       "5  0.5296977535773845, p=0.0361150453770427  \n",
       "6                                       NaN  "
      ]
     },
     "execution_count": 7,
     "metadata": {},
     "output_type": "execute_result"
    }
   ],
   "source": [
    "sig_corr_df"
   ]
  },
  {
   "cell_type": "markdown",
   "id": "6defd3fa",
   "metadata": {},
   "source": [
    "Appears to be some correlation between gender and the assignment on prompt #4 (indexed at 5), and gaming_per_week with prompt #9."
   ]
  },
  {
   "cell_type": "markdown",
   "id": "89d126e1",
   "metadata": {},
   "source": [
    "## Preprocess Data\n",
    "\n",
    "Transform data into signed distances from the expected value.\n",
    "\n",
    "|value_index |value_real| value_label       |\n",
    "|------------|----------|-------------------|\n",
    "| 0          | -4       | self-direction    |\n",
    "| 1          | -3       | universalism      |\n",
    "| 2          | -2       | benevolence       |\n",
    "| 3          | -1       | tradition         |\n",
    "| 4          |  0       | security          |\n",
    "| 5          |  1       | power             |\n",
    "| 6          |  2       | achievement       |\n",
    "| 7          |  3       | hedonism          |\n",
    "| 8          |  4       | stimulation       |"
   ]
  },
  {
   "cell_type": "code",
   "execution_count": 8,
   "id": "10e32df9",
   "metadata": {},
   "outputs": [],
   "source": [
    "expected_values_per_prompt = [\n",
    "    5, # Expected value: power, Use Materials for Weapon Manufacturing\n",
    "    6, # Expected value: achievement, Hold Parade of Victories\n",
    "    7, # Expected value: hedonism, Hold a Festival for the God of Pleasure\n",
    "    8, # Expected value: stimulation, Maintain an Art Museum\n",
    "    3, # Expected value: security, Punish a Criminal\n",
    "    0, # Expected value: benevolence, Maintain a Hospital\n",
    "    1, # Expected value: universalism, Open Food Rations to Peasants\n",
    "    3, # Expected value: tradition, Enforce an Hour of Prayer\n",
    "    4, # Expected value: security, Reinforce the Capital City's Walls\n",
    "]\n",
    "\n",
    "VALUE_COUNT = 9"
   ]
  },
  {
   "cell_type": "code",
   "execution_count": 9,
   "id": "04778c31",
   "metadata": {},
   "outputs": [],
   "source": [
    "def computeSignedDistance(value1, value2):\n",
    "    global VALUE_COUNT\n",
    "    \n",
    "    value2_trans1 = value2 - VALUE_COUNT\n",
    "    value2_trans2 = value2 + VALUE_COUNT\n",
    "    \n",
    "    values_to_compare_against = [value2, value2_trans1, value2_trans2]\n",
    "    \n",
    "    min_dist = None\n",
    "    sign = None\n",
    "    for val in values_to_compare_against:\n",
    "        if min_dist is None or abs(value1 - val) < min_dist:\n",
    "            min_dist = abs(value1 - val)\n",
    "            \n",
    "            if value1 > val:\n",
    "                sign = -1\n",
    "            else:\n",
    "                sign = 1\n",
    "        \n",
    "    return sign * min_dist    "
   ]
  },
  {
   "cell_type": "code",
   "execution_count": 10,
   "id": "b7caa9bb",
   "metadata": {},
   "outputs": [
    {
     "data": {
      "text/html": [
       "<div>\n",
       "<style scoped>\n",
       "    .dataframe tbody tr th:only-of-type {\n",
       "        vertical-align: middle;\n",
       "    }\n",
       "\n",
       "    .dataframe tbody tr th {\n",
       "        vertical-align: top;\n",
       "    }\n",
       "\n",
       "    .dataframe thead th {\n",
       "        text-align: right;\n",
       "    }\n",
       "</style>\n",
       "<table border=\"1\" class=\"dataframe\">\n",
       "  <thead>\n",
       "    <tr style=\"text-align: right;\">\n",
       "      <th></th>\n",
       "      <th>value_0</th>\n",
       "      <th>value_1</th>\n",
       "      <th>value_2</th>\n",
       "      <th>value_3</th>\n",
       "      <th>value_4</th>\n",
       "      <th>value_5</th>\n",
       "      <th>value_6</th>\n",
       "      <th>value_7</th>\n",
       "      <th>value_8</th>\n",
       "    </tr>\n",
       "  </thead>\n",
       "  <tbody>\n",
       "    <tr>\n",
       "      <th>0</th>\n",
       "      <td>0</td>\n",
       "      <td>-1</td>\n",
       "      <td>0</td>\n",
       "      <td>1</td>\n",
       "      <td>2</td>\n",
       "      <td>1</td>\n",
       "      <td>0</td>\n",
       "      <td>4</td>\n",
       "      <td>0</td>\n",
       "    </tr>\n",
       "    <tr>\n",
       "      <th>1</th>\n",
       "      <td>0</td>\n",
       "      <td>-1</td>\n",
       "      <td>0</td>\n",
       "      <td>0</td>\n",
       "      <td>1</td>\n",
       "      <td>1</td>\n",
       "      <td>0</td>\n",
       "      <td>0</td>\n",
       "      <td>0</td>\n",
       "    </tr>\n",
       "    <tr>\n",
       "      <th>2</th>\n",
       "      <td>0</td>\n",
       "      <td>1</td>\n",
       "      <td>-4</td>\n",
       "      <td>0</td>\n",
       "      <td>2</td>\n",
       "      <td>2</td>\n",
       "      <td>1</td>\n",
       "      <td>2</td>\n",
       "      <td>0</td>\n",
       "    </tr>\n",
       "    <tr>\n",
       "      <th>3</th>\n",
       "      <td>-1</td>\n",
       "      <td>-1</td>\n",
       "      <td>0</td>\n",
       "      <td>0</td>\n",
       "      <td>1</td>\n",
       "      <td>2</td>\n",
       "      <td>1</td>\n",
       "      <td>0</td>\n",
       "      <td>0</td>\n",
       "    </tr>\n",
       "    <tr>\n",
       "      <th>4</th>\n",
       "      <td>0</td>\n",
       "      <td>-1</td>\n",
       "      <td>0</td>\n",
       "      <td>0</td>\n",
       "      <td>2</td>\n",
       "      <td>1</td>\n",
       "      <td>3</td>\n",
       "      <td>2</td>\n",
       "      <td>0</td>\n",
       "    </tr>\n",
       "    <tr>\n",
       "      <th>5</th>\n",
       "      <td>0</td>\n",
       "      <td>0</td>\n",
       "      <td>-4</td>\n",
       "      <td>0</td>\n",
       "      <td>1</td>\n",
       "      <td>2</td>\n",
       "      <td>1</td>\n",
       "      <td>2</td>\n",
       "      <td>0</td>\n",
       "    </tr>\n",
       "    <tr>\n",
       "      <th>6</th>\n",
       "      <td>-1</td>\n",
       "      <td>0</td>\n",
       "      <td>1</td>\n",
       "      <td>0</td>\n",
       "      <td>1</td>\n",
       "      <td>4</td>\n",
       "      <td>0</td>\n",
       "      <td>0</td>\n",
       "      <td>0</td>\n",
       "    </tr>\n",
       "    <tr>\n",
       "      <th>7</th>\n",
       "      <td>0</td>\n",
       "      <td>1</td>\n",
       "      <td>-4</td>\n",
       "      <td>4</td>\n",
       "      <td>1</td>\n",
       "      <td>1</td>\n",
       "      <td>0</td>\n",
       "      <td>2</td>\n",
       "      <td>0</td>\n",
       "    </tr>\n",
       "    <tr>\n",
       "      <th>8</th>\n",
       "      <td>-1</td>\n",
       "      <td>4</td>\n",
       "      <td>4</td>\n",
       "      <td>-1</td>\n",
       "      <td>2</td>\n",
       "      <td>4</td>\n",
       "      <td>3</td>\n",
       "      <td>0</td>\n",
       "      <td>-3</td>\n",
       "    </tr>\n",
       "    <tr>\n",
       "      <th>9</th>\n",
       "      <td>-1</td>\n",
       "      <td>-1</td>\n",
       "      <td>0</td>\n",
       "      <td>4</td>\n",
       "      <td>1</td>\n",
       "      <td>2</td>\n",
       "      <td>1</td>\n",
       "      <td>0</td>\n",
       "      <td>0</td>\n",
       "    </tr>\n",
       "    <tr>\n",
       "      <th>10</th>\n",
       "      <td>0</td>\n",
       "      <td>-1</td>\n",
       "      <td>-2</td>\n",
       "      <td>4</td>\n",
       "      <td>2</td>\n",
       "      <td>4</td>\n",
       "      <td>3</td>\n",
       "      <td>2</td>\n",
       "      <td>1</td>\n",
       "    </tr>\n",
       "    <tr>\n",
       "      <th>11</th>\n",
       "      <td>0</td>\n",
       "      <td>1</td>\n",
       "      <td>-4</td>\n",
       "      <td>4</td>\n",
       "      <td>2</td>\n",
       "      <td>1</td>\n",
       "      <td>3</td>\n",
       "      <td>2</td>\n",
       "      <td>0</td>\n",
       "    </tr>\n",
       "    <tr>\n",
       "      <th>12</th>\n",
       "      <td>0</td>\n",
       "      <td>1</td>\n",
       "      <td>-4</td>\n",
       "      <td>4</td>\n",
       "      <td>1</td>\n",
       "      <td>2</td>\n",
       "      <td>1</td>\n",
       "      <td>0</td>\n",
       "      <td>0</td>\n",
       "    </tr>\n",
       "    <tr>\n",
       "      <th>13</th>\n",
       "      <td>-1</td>\n",
       "      <td>-3</td>\n",
       "      <td>0</td>\n",
       "      <td>2</td>\n",
       "      <td>1</td>\n",
       "      <td>2</td>\n",
       "      <td>1</td>\n",
       "      <td>0</td>\n",
       "      <td>0</td>\n",
       "    </tr>\n",
       "  </tbody>\n",
       "</table>\n",
       "</div>"
      ],
      "text/plain": [
       "    value_0  value_1  value_2  value_3  value_4  value_5  value_6  value_7  \\\n",
       "0         0       -1        0        1        2        1        0        4   \n",
       "1         0       -1        0        0        1        1        0        0   \n",
       "2         0        1       -4        0        2        2        1        2   \n",
       "3        -1       -1        0        0        1        2        1        0   \n",
       "4         0       -1        0        0        2        1        3        2   \n",
       "5         0        0       -4        0        1        2        1        2   \n",
       "6        -1        0        1        0        1        4        0        0   \n",
       "7         0        1       -4        4        1        1        0        2   \n",
       "8        -1        4        4       -1        2        4        3        0   \n",
       "9        -1       -1        0        4        1        2        1        0   \n",
       "10        0       -1       -2        4        2        4        3        2   \n",
       "11        0        1       -4        4        2        1        3        2   \n",
       "12        0        1       -4        4        1        2        1        0   \n",
       "13       -1       -3        0        2        1        2        1        0   \n",
       "\n",
       "    value_8  \n",
       "0         0  \n",
       "1         0  \n",
       "2         0  \n",
       "3         0  \n",
       "4         0  \n",
       "5         0  \n",
       "6         0  \n",
       "7         0  \n",
       "8        -3  \n",
       "9         0  \n",
       "10        1  \n",
       "11        0  \n",
       "12        0  \n",
       "13        0  "
      ]
     },
     "metadata": {},
     "output_type": "display_data"
    }
   ],
   "source": [
    "distance_df = []\n",
    "for row in data_df.iloc:\n",
    "    new_row = {}\n",
    "    for idx, col in enumerate(value_assignment_columns):    \n",
    "        new_row[col] = computeSignedDistance(expected_values_per_prompt[idx], row[col])\n",
    "        \n",
    "    distance_df.append(new_row)\n",
    "    \n",
    "distance_df = pd.DataFrame(distance_df)\n",
    "display(distance_df)"
   ]
  },
  {
   "cell_type": "code",
   "execution_count": 11,
   "id": "a5e44cf8",
   "metadata": {
    "scrolled": false
   },
   "outputs": [
    {
     "data": {
      "image/png": "[encoded data removed]",
      "text/plain": [
       "<Figure size 1200x1400 with 9 Axes>"
      ]
     },
     "metadata": {},
     "output_type": "display_data"
    }
   ],
   "source": [
    "bins = list(range(-5, 6))\n",
    "fig, axs = plt.subplots(3, 3, sharex=False, sharey=True, figsize=(12, 14))\n",
    "plots = axs.reshape(9,)\n",
    "for value_index, row in enumerate(distance_df.T.iloc):\n",
    "    plot = plots[value_index]\n",
    "    plot.hist(row, bins=bins, align='left', edgecolor='black')\n",
    "    \n",
    "fig.supxlabel('Signed Distance')\n",
    "fig.supylabel('Count')\n",
    "plt.show()"
   ]
  },
  {
   "cell_type": "code",
   "execution_count": 23,
   "id": "45bc1ff5",
   "metadata": {},
   "outputs": [
    {
     "data": {
      "text/html": [
       "<div>\n",
       "<style scoped>\n",
       "    .dataframe tbody tr th:only-of-type {\n",
       "        vertical-align: middle;\n",
       "    }\n",
       "\n",
       "    .dataframe tbody tr th {\n",
       "        vertical-align: top;\n",
       "    }\n",
       "\n",
       "    .dataframe thead th {\n",
       "        text-align: right;\n",
       "    }\n",
       "</style>\n",
       "<table border=\"1\" class=\"dataframe\">\n",
       "  <thead>\n",
       "    <tr style=\"text-align: right;\">\n",
       "      <th></th>\n",
       "      <th>mean</th>\n",
       "      <th>median</th>\n",
       "      <th>iqr</th>\n",
       "      <th>std</th>\n",
       "      <th>shapiro-statistic</th>\n",
       "      <th>shapiro-pvalue</th>\n",
       "      <th>shapiro-is_sig</th>\n",
       "    </tr>\n",
       "  </thead>\n",
       "  <tbody>\n",
       "    <tr>\n",
       "      <th>0</th>\n",
       "      <td>-0.357143</td>\n",
       "      <td>0.0</td>\n",
       "      <td>1.00</td>\n",
       "      <td>0.497245</td>\n",
       "      <td>0.615978</td>\n",
       "      <td>0.000057</td>\n",
       "      <td>True</td>\n",
       "    </tr>\n",
       "    <tr>\n",
       "      <th>1</th>\n",
       "      <td>-0.071429</td>\n",
       "      <td>-0.5</td>\n",
       "      <td>2.00</td>\n",
       "      <td>1.639150</td>\n",
       "      <td>0.877483</td>\n",
       "      <td>0.053518</td>\n",
       "      <td>False</td>\n",
       "    </tr>\n",
       "    <tr>\n",
       "      <th>2</th>\n",
       "      <td>-1.214286</td>\n",
       "      <td>0.0</td>\n",
       "      <td>4.00</td>\n",
       "      <td>2.486226</td>\n",
       "      <td>0.838038</td>\n",
       "      <td>0.015342</td>\n",
       "      <td>True</td>\n",
       "    </tr>\n",
       "    <tr>\n",
       "      <th>3</th>\n",
       "      <td>1.571429</td>\n",
       "      <td>0.5</td>\n",
       "      <td>4.00</td>\n",
       "      <td>1.988981</td>\n",
       "      <td>0.777445</td>\n",
       "      <td>0.002661</td>\n",
       "      <td>True</td>\n",
       "    </tr>\n",
       "    <tr>\n",
       "      <th>4</th>\n",
       "      <td>1.428571</td>\n",
       "      <td>1.0</td>\n",
       "      <td>1.00</td>\n",
       "      <td>0.513553</td>\n",
       "      <td>0.638846</td>\n",
       "      <td>0.000092</td>\n",
       "      <td>True</td>\n",
       "    </tr>\n",
       "    <tr>\n",
       "      <th>5</th>\n",
       "      <td>2.071429</td>\n",
       "      <td>2.0</td>\n",
       "      <td>1.00</td>\n",
       "      <td>1.141139</td>\n",
       "      <td>0.770772</td>\n",
       "      <td>0.002221</td>\n",
       "      <td>True</td>\n",
       "    </tr>\n",
       "    <tr>\n",
       "      <th>6</th>\n",
       "      <td>1.285714</td>\n",
       "      <td>1.0</td>\n",
       "      <td>2.25</td>\n",
       "      <td>1.204388</td>\n",
       "      <td>0.785524</td>\n",
       "      <td>0.003323</td>\n",
       "      <td>True</td>\n",
       "    </tr>\n",
       "    <tr>\n",
       "      <th>7</th>\n",
       "      <td>1.142857</td>\n",
       "      <td>1.0</td>\n",
       "      <td>2.00</td>\n",
       "      <td>1.292412</td>\n",
       "      <td>0.758385</td>\n",
       "      <td>0.001596</td>\n",
       "      <td>True</td>\n",
       "    </tr>\n",
       "    <tr>\n",
       "      <th>8</th>\n",
       "      <td>-0.142857</td>\n",
       "      <td>0.0</td>\n",
       "      <td>0.00</td>\n",
       "      <td>0.864438</td>\n",
       "      <td>0.453991</td>\n",
       "      <td>0.000003</td>\n",
       "      <td>True</td>\n",
       "    </tr>\n",
       "  </tbody>\n",
       "</table>\n",
       "</div>"
      ],
      "text/plain": [
       "       mean  median   iqr       std  shapiro-statistic  shapiro-pvalue  \\\n",
       "0 -0.357143     0.0  1.00  0.497245           0.615978        0.000057   \n",
       "1 -0.071429    -0.5  2.00  1.639150           0.877483        0.053518   \n",
       "2 -1.214286     0.0  4.00  2.486226           0.838038        0.015342   \n",
       "3  1.571429     0.5  4.00  1.988981           0.777445        0.002661   \n",
       "4  1.428571     1.0  1.00  0.513553           0.638846        0.000092   \n",
       "5  2.071429     2.0  1.00  1.141139           0.770772        0.002221   \n",
       "6  1.285714     1.0  2.25  1.204388           0.785524        0.003323   \n",
       "7  1.142857     1.0  2.00  1.292412           0.758385        0.001596   \n",
       "8 -0.142857     0.0  0.00  0.864438           0.453991        0.000003   \n",
       "\n",
       "   shapiro-is_sig  \n",
       "0            True  \n",
       "1           False  \n",
       "2            True  \n",
       "3            True  \n",
       "4            True  \n",
       "5            True  \n",
       "6            True  \n",
       "7            True  \n",
       "8            True  "
      ]
     },
     "metadata": {},
     "output_type": "display_data"
    }
   ],
   "source": [
    "shapiro_tests = []\n",
    "alpha = 0.05\n",
    "for value_index, row in enumerate(distance_df.T.iloc):\n",
    "    test_res = shapiro(row)\n",
    "    shapiro_tests.append({\n",
    "        'mean': statistics.mean(row),\n",
    "        'median': statistics.median(row),\n",
    "        'iqr': iqr(row),\n",
    "        'std': row.std(),\n",
    "        'shapiro-statistic': test_res.statistic,\n",
    "        'shapiro-pvalue': test_res.pvalue,\n",
    "        'shapiro-is_sig': test_res.pvalue < alpha\n",
    "    })\n",
    "    \n",
    "shapiro_tests = pd.DataFrame(shapiro_tests)\n",
    "display(shapiro_tests)"
   ]
  },
  {
   "cell_type": "code",
   "execution_count": null,
   "id": "e53e35c8",
   "metadata": {},
   "outputs": [],
   "source": []
  }
 ],
 "metadata": {
  "kernelspec": {
   "display_name": "Python 3 (ipykernel)",
   "language": "python",
   "name": "python3"
  },
  "language_info": {
   "codemirror_mode": {
    "name": "ipython",
    "version": 3
   },
   "file_extension": ".py",
   "mimetype": "text/x-python",
   "name": "python",
   "nbconvert_exporter": "python",
   "pygments_lexer": "ipython3",
   "version": "3.8.10"
  }
 },
 "nbformat": 4,
 "nbformat_minor": 5
}
